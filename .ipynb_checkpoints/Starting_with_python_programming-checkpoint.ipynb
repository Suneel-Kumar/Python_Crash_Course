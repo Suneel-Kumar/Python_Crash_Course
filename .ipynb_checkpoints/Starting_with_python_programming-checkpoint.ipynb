{
 "cells": [
  {
   "cell_type": "markdown",
   "metadata": {
    "colab_type": "text",
    "id": "view-in-github"
   },
   "source": [
    "<a href=\"https://colab.research.google.com/github/Suneel-Kumar/Python_Crash_Course/blob/master/Starting_with_python_programming.ipynb\" target=\"_parent\"><img src=\"https://colab.research.google.com/assets/colab-badge.svg\" alt=\"Open In Colab\"/></a>"
   ]
  },
  {
   "cell_type": "code",
   "execution_count": 20,
   "metadata": {
    "id": "Gv3SczCI6gt5"
   },
   "outputs": [],
   "source": [
    "with open('abc.txt', 'w') as obj:\n",
    "  obj.write(\"I am over this is \")\n",
    "  obj.write(\"\\nI am over this is This is \")\n",
    "  obj.write(\"\\nI am over this is This is\")\n",
    "  obj.write(\"\\nI am over this is \")\n",
    "  obj.write(\"\\nI am over this is \")\n",
    "  obj.write(\"\\nI am over this is \")"
   ]
  },
  {
   "cell_type": "code",
   "execution_count": 17,
   "metadata": {
    "colab": {
     "base_uri": "https://localhost:8080/"
    },
    "id": "NDFHhNbs-Evg",
    "outputId": "d7a81605-b378-4a92-c113-5e7739b5c887"
   },
   "outputs": [
    {
     "name": "stdout",
     "output_type": "stream",
     "text": [
      "I am over this is I am over this is \n",
      "this is I am over this is \n"
     ]
    }
   ],
   "source": [
    "with open('abc.txt', 'r') as f:\n",
    "  content = f.read()\n",
    "  f.seek(10)\n",
    "  content1 = f.read()\n",
    "  print(content)\n",
    "  print(content1)"
   ]
  },
  {
   "cell_type": "code",
   "execution_count": 25,
   "metadata": {
    "colab": {
     "base_uri": "https://localhost:8080/"
    },
    "id": "8ZxBAKOx_euj",
    "outputId": "c148c435-0f1c-495c-e8fb-09946f694b2e"
   },
   "outputs": [
    {
     "name": "stdout",
     "output_type": "stream",
     "text": [
      "I am over this is \n",
      "\n",
      "I am over this is This is \n",
      "\n",
      "I am over this is This is\n",
      "\n",
      "I am over this is \n",
      "\n",
      "I am over this is \n",
      "\n",
      "I am over this is \n"
     ]
    }
   ],
   "source": [
    "with open('abc.txt', 'r') as r:\n",
    "  lines = r.readlines()\n",
    "  for line in lines:\n",
    "    print(line)"
   ]
  },
  {
   "cell_type": "code",
   "execution_count": 26,
   "metadata": {
    "id": "sQgJax8IDrPy"
   },
   "outputs": [],
   "source": [
    "with open('abc.txt', 'a') as obj:\n",
    "  obj.write(\"I am over this is \")\n",
    "  obj.write(\"\\nI am over this is line 1 \")\n",
    "  obj.write(\"\\nI am over this is line 2\")\n",
    "  obj.write(\"\\nI am over this is line 3\")\n",
    "  obj.write(\"\\nI am over this is line 4\")\n",
    "  obj.write(\"\\nI am over this is line 5\")"
   ]
  },
  {
   "cell_type": "code",
   "execution_count": 27,
   "metadata": {
    "colab": {
     "base_uri": "https://localhost:8080/"
    },
    "id": "kohsCszLEpY5",
    "outputId": "66b132ed-061a-44e5-b045-88b856c2dbef"
   },
   "outputs": [
    {
     "name": "stdout",
     "output_type": "stream",
     "text": [
      "I am over this is \n",
      "\n",
      "I am over this is This is \n",
      "\n",
      "I am over this is This is\n",
      "\n",
      "I am over this is \n",
      "\n",
      "I am over this is \n",
      "\n",
      "I am over this is I am over this is \n",
      "\n",
      "I am over this is line 1 \n",
      "\n",
      "I am over this is line 2\n",
      "\n",
      "I am over this is line 3\n",
      "\n",
      "I am over this is line 4\n",
      "\n",
      "I am over this is line 5\n"
     ]
    }
   ],
   "source": [
    "with open('abc.txt', 'r') as r:\n",
    "  lines = r.readlines()\n",
    "  for line in lines:\n",
    "    print(line)"
   ]
  },
  {
   "cell_type": "code",
   "execution_count": null,
   "metadata": {
    "id": "EUUGNTcWE3rv"
   },
   "outputs": [],
   "source": []
  }
 ],
 "metadata": {
  "colab": {
   "authorship_tag": "ABX9TyMTXb4KBZxCynHnAdZmGTzL",
   "include_colab_link": true,
   "name": "Starting_with_python_programming.ipynb",
   "provenance": []
  },
  "kernelspec": {
   "display_name": "Python 3",
   "language": "python",
   "name": "python3"
  },
  "language_info": {
   "codemirror_mode": {
    "name": "ipython",
    "version": 3
   },
   "file_extension": ".py",
   "mimetype": "text/x-python",
   "name": "python",
   "nbconvert_exporter": "python",
   "pygments_lexer": "ipython3",
   "version": "3.8.5"
  }
 },
 "nbformat": 4,
 "nbformat_minor": 1
}
