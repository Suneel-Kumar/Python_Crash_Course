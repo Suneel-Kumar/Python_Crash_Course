{
  "nbformat": 4,
  "nbformat_minor": 0,
  "metadata": {
    "colab": {
      "name": "Starting_with_python_programming.ipynb",
      "provenance": [],
      "authorship_tag": "ABX9TyNIcTbxS6UH9Agsrj/dL3+Q",
      "include_colab_link": true
    },
    "kernelspec": {
      "name": "python3",
      "display_name": "Python 3"
    }
  },
  "cells": [
    {
      "cell_type": "markdown",
      "metadata": {
        "id": "view-in-github",
        "colab_type": "text"
      },
      "source": [
        "<a href=\"https://colab.research.google.com/github/Suneel-Kumar/Python_Crash_Course/blob/master/Starting_with_python_programming.ipynb\" target=\"_parent\"><img src=\"https://colab.research.google.com/assets/colab-badge.svg\" alt=\"Open In Colab\"/></a>"
      ]
    },
    {
      "cell_type": "code",
      "metadata": {
        "id": "Gv3SczCI6gt5"
      },
      "source": [
        "with open('abc.txt', 'w') as obj:\r\n",
        "  obj.write(\"I am over this is \")\r\n",
        "  obj.write(\"\\nI am over this is This is \")\r\n",
        "  obj.write(\"\\nI am over this is This is\")\r\n",
        "  obj.write(\"\\nI am over this is \")\r\n",
        "  obj.write(\"\\nI am over this is \")\r\n",
        "  obj.write(\"\\nI am over this is \")"
      ],
      "execution_count": 20,
      "outputs": []
    },
    {
      "cell_type": "code",
      "metadata": {
        "colab": {
          "base_uri": "https://localhost:8080/"
        },
        "id": "NDFHhNbs-Evg",
        "outputId": "d7a81605-b378-4a92-c113-5e7739b5c887"
      },
      "source": [
        "with open('abc.txt', 'r') as f:\r\n",
        "  content = f.read()\r\n",
        "  f.seek(10)\r\n",
        "  content1 = f.read()\r\n",
        "  print(content)\r\n",
        "  print(content1)"
      ],
      "execution_count": 17,
      "outputs": [
        {
          "output_type": "stream",
          "text": [
            "I am over this is I am over this is \n",
            "this is I am over this is \n"
          ],
          "name": "stdout"
        }
      ]
    },
    {
      "cell_type": "code",
      "metadata": {
        "id": "8ZxBAKOx_euj"
      },
      "source": [
        ""
      ],
      "execution_count": null,
      "outputs": []
    }
  ]
}